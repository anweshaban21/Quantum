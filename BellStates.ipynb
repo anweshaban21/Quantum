{
  "nbformat": 4,
  "nbformat_minor": 0,
  "metadata": {
    "colab": {
      "provenance": [],
      "authorship_tag": "ABX9TyMNLOAuZUO2pjYFvKwgllkf",
      "include_colab_link": true
    },
    "kernelspec": {
      "name": "python3",
      "display_name": "Python 3"
    },
    "language_info": {
      "name": "python"
    }
  },
  "cells": [
    {
      "cell_type": "markdown",
      "metadata": {
        "id": "view-in-github",
        "colab_type": "text"
      },
      "source": [
        "<a href=\"https://colab.research.google.com/github/anweshaban21/Quantum/blob/main/BellStates.ipynb\" target=\"_parent\"><img src=\"https://colab.research.google.com/assets/colab-badge.svg\" alt=\"Open In Colab\"/></a>"
      ]
    },
    {
      "cell_type": "code",
      "source": [
        "!pip install qiskit qiskit-aer matplotlib --quiet"
      ],
      "metadata": {
        "colab": {
          "base_uri": "https://localhost:8080/"
        },
        "id": "4skxI2erPM--",
        "outputId": "acf32470-f6d2-455d-ab77-108bce1e0efd"
      },
      "execution_count": 4,
      "outputs": [
        {
          "output_type": "stream",
          "name": "stdout",
          "text": [
            "\u001b[?25l   \u001b[90m━━━━━━━━━━━━━━━━━━━━━━━━━━━━━━━━━━━━━━━━\u001b[0m \u001b[32m0.0/12.4 MB\u001b[0m \u001b[31m?\u001b[0m eta \u001b[36m-:--:--\u001b[0m\r\u001b[2K   \u001b[91m╸\u001b[0m\u001b[90m━━━━━━━━━━━━━━━━━━━━━━━━━━━━━━━━━━━━━━━\u001b[0m \u001b[32m0.3/12.4 MB\u001b[0m \u001b[31m7.6 MB/s\u001b[0m eta \u001b[36m0:00:02\u001b[0m\r\u001b[2K   \u001b[91m━━━━━━━━━━━━\u001b[0m\u001b[90m╺\u001b[0m\u001b[90m━━━━━━━━━━━━━━━━━━━━━━━━━━━\u001b[0m \u001b[32m3.7/12.4 MB\u001b[0m \u001b[31m53.9 MB/s\u001b[0m eta \u001b[36m0:00:01\u001b[0m\r\u001b[2K   \u001b[91m━━━━━━━━━━━━━━━━━━━━━━━━━━━━━━━\u001b[0m\u001b[91m╸\u001b[0m\u001b[90m━━━━━━━━\u001b[0m \u001b[32m9.8/12.4 MB\u001b[0m \u001b[31m91.6 MB/s\u001b[0m eta \u001b[36m0:00:01\u001b[0m\r\u001b[2K   \u001b[91m━━━━━━━━━━━━━━━━━━━━━━━━━━━━━━━━━━━━━━━\u001b[0m\u001b[91m╸\u001b[0m \u001b[32m12.3/12.4 MB\u001b[0m \u001b[31m165.5 MB/s\u001b[0m eta \u001b[36m0:00:01\u001b[0m\r\u001b[2K   \u001b[90m━━━━━━━━━━━━━━━━━━━━━━━━━━━━━━━━━━━━━━━━\u001b[0m \u001b[32m12.4/12.4 MB\u001b[0m \u001b[31m98.0 MB/s\u001b[0m eta \u001b[36m0:00:00\u001b[0m\n",
            "\u001b[?25h"
          ]
        }
      ]
    },
    {
      "cell_type": "code",
      "source": [
        "from qiskit import QuantumCircuit, transpile\n",
        "from qiskit_aer import Aer\n",
        "from qiskit.visualization import plot_bloch_multivector, plot_histogram\n",
        "from qiskit.quantum_info import Statevector\n",
        "import matplotlib.pyplot as plt\n"
      ],
      "metadata": {
        "id": "PQYGqsE2OtEF"
      },
      "execution_count": 6,
      "outputs": []
    },
    {
      "cell_type": "code",
      "source": [
        "def generate_bell_state(i):\n",
        "    # Add your bell state generation code here\n",
        "    from qiskit import QuantumCircuit\n",
        "    qc = QuantumCircuit(2, 2)\n",
        "    qc.h(0)\n",
        "    qc.cx(0, 1)\n",
        "\n",
        "    # Apply additional gates based on the bell state type (i)\n",
        "    if i == 1:  # Φ⁻\n",
        "        qc.z(0)\n",
        "    elif i == 2:  # Ψ⁺\n",
        "        qc.x(1)\n",
        "    elif i == 3:  # Ψ⁻\n",
        "        qc.z(0)\n",
        "        qc.x(1)\n",
        "\n",
        "    qc.measure_all()\n",
        "    return qc"
      ],
      "metadata": {
        "id": "R2-33GSLOuTj"
      },
      "execution_count": 7,
      "outputs": []
    },
    {
      "cell_type": "code",
      "source": [
        "states = ['Φ⁺', 'Φ⁻', 'Ψ⁺', 'Ψ⁻']\n",
        "backend = Aer.get_backend('aer_simulator')\n",
        "\n",
        "for i in range(4):\n",
        "    print(f\"Bell State |{states[i]}⟩:\")\n",
        "    qc = generate_bell_state(i)\n",
        "    print(qc.draw(output='text'))\n",
        "    transpiled = transpile(qc, backend)\n",
        "    result = backend.run(transpiled).result()\n",
        "    counts = result.get_counts()\n",
        "    plot_histogram(counts)\n",
        "    plt.show()"
      ],
      "metadata": {
        "colab": {
          "base_uri": "https://localhost:8080/"
        },
        "id": "p54wO7sGPnmt",
        "outputId": "e0c7e03c-6ebf-4689-f1d7-4bc56b4f4eb3"
      },
      "execution_count": 8,
      "outputs": [
        {
          "output_type": "stream",
          "name": "stdout",
          "text": [
            "Bell State |Φ⁺⟩:\n",
            "        ┌───┐      ░ ┌─┐   \n",
            "   q_0: ┤ H ├──■───░─┤M├───\n",
            "        └───┘┌─┴─┐ ░ └╥┘┌─┐\n",
            "   q_1: ─────┤ X ├─░──╫─┤M├\n",
            "             └───┘ ░  ║ └╥┘\n",
            "   c: 2/══════════════╬══╬═\n",
            "                      ║  ║ \n",
            "meas: 2/══════════════╩══╩═\n",
            "                      0  1 \n",
            "Bell State |Φ⁻⟩:\n",
            "        ┌───┐     ┌───┐ ░ ┌─┐   \n",
            "   q_0: ┤ H ├──■──┤ Z ├─░─┤M├───\n",
            "        └───┘┌─┴─┐└───┘ ░ └╥┘┌─┐\n",
            "   q_1: ─────┤ X ├──────░──╫─┤M├\n",
            "             └───┘      ░  ║ └╥┘\n",
            "   c: 2/═══════════════════╬══╬═\n",
            "                           ║  ║ \n",
            "meas: 2/═══════════════════╩══╩═\n",
            "                           0  1 \n",
            "Bell State |Ψ⁺⟩:\n",
            "        ┌───┐           ░ ┌─┐   \n",
            "   q_0: ┤ H ├──■────────░─┤M├───\n",
            "        └───┘┌─┴─┐┌───┐ ░ └╥┘┌─┐\n",
            "   q_1: ─────┤ X ├┤ X ├─░──╫─┤M├\n",
            "             └───┘└───┘ ░  ║ └╥┘\n",
            "   c: 2/═══════════════════╬══╬═\n",
            "                           ║  ║ \n",
            "meas: 2/═══════════════════╩══╩═\n",
            "                           0  1 \n",
            "Bell State |Ψ⁻⟩:\n",
            "        ┌───┐     ┌───┐ ░ ┌─┐   \n",
            "   q_0: ┤ H ├──■──┤ Z ├─░─┤M├───\n",
            "        └───┘┌─┴─┐├───┤ ░ └╥┘┌─┐\n",
            "   q_1: ─────┤ X ├┤ X ├─░──╫─┤M├\n",
            "             └───┘└───┘ ░  ║ └╥┘\n",
            "   c: 2/═══════════════════╬══╬═\n",
            "                           ║  ║ \n",
            "meas: 2/═══════════════════╩══╩═\n",
            "                           0  1 \n"
          ]
        }
      ]
    },
    {
      "cell_type": "code",
      "source": [],
      "metadata": {
        "id": "vEVkbFOpP7Sz"
      },
      "execution_count": null,
      "outputs": []
    }
  ]
}